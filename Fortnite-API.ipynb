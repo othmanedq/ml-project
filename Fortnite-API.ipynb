{
 "cells": [
  {
   "cell_type": "code",
   "execution_count": 1,
   "id": "38618acd",
   "metadata": {},
   "outputs": [],
   "source": [
    "api = \"30b1c829-4284-4d56-8986-5febc6fcb423\""
   ]
  },
  {
   "cell_type": "code",
   "execution_count": null,
   "id": "a1473caf",
   "metadata": {},
   "outputs": [],
   "source": []
  }
 ],
 "metadata": {
  "kernelspec": {
   "display_name": "base",
   "language": "python",
   "name": "python3"
  },
  "language_info": {
   "codemirror_mode": {
    "name": "ipython",
    "version": 3
   },
   "file_extension": ".py",
   "mimetype": "text/x-python",
   "name": "python",
   "nbconvert_exporter": "python",
   "pygments_lexer": "ipython3",
   "version": "3.11.8"
  }
 },
 "nbformat": 4,
 "nbformat_minor": 5
}
