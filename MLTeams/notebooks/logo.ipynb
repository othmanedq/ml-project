{
 "cells": [
  {
   "cell_type": "code",
   "execution_count": 4,
   "id": "b577789e",
   "metadata": {},
   "outputs": [
    {
     "data": {
      "text/html": [
       "<div style=\"display:inline-block; margin:10px; text-align:center;\"><img src=\"../logos/ATL.svg\" width=\"100px\" /><br><small>ATL</small></div>"
      ],
      "text/plain": [
       "<IPython.core.display.HTML object>"
      ]
     },
     "metadata": {},
     "output_type": "display_data"
    },
    {
     "data": {
      "text/html": [
       "<div style=\"display:inline-block; margin:10px; text-align:center;\"><img src=\"../logos/BKN.svg\" width=\"100px\" /><br><small>BKN</small></div>"
      ],
      "text/plain": [
       "<IPython.core.display.HTML object>"
      ]
     },
     "metadata": {},
     "output_type": "display_data"
    },
    {
     "data": {
      "text/html": [
       "<div style=\"display:inline-block; margin:10px; text-align:center;\"><img src=\"../logos/BOS.svg\" width=\"100px\" /><br><small>BOS</small></div>"
      ],
      "text/plain": [
       "<IPython.core.display.HTML object>"
      ]
     },
     "metadata": {},
     "output_type": "display_data"
    },
    {
     "data": {
      "text/html": [
       "<div style=\"display:inline-block; margin:10px; text-align:center;\"><img src=\"../logos/CHA.svg\" width=\"100px\" /><br><small>CHA</small></div>"
      ],
      "text/plain": [
       "<IPython.core.display.HTML object>"
      ]
     },
     "metadata": {},
     "output_type": "display_data"
    },
    {
     "data": {
      "text/html": [
       "<div style=\"display:inline-block; margin:10px; text-align:center;\"><img src=\"../logos/CHI.svg\" width=\"100px\" /><br><small>CHI</small></div>"
      ],
      "text/plain": [
       "<IPython.core.display.HTML object>"
      ]
     },
     "metadata": {},
     "output_type": "display_data"
    },
    {
     "data": {
      "text/html": [
       "<div style=\"display:inline-block; margin:10px; text-align:center;\"><img src=\"../logos/CLE.svg\" width=\"100px\" /><br><small>CLE</small></div>"
      ],
      "text/plain": [
       "<IPython.core.display.HTML object>"
      ]
     },
     "metadata": {},
     "output_type": "display_data"
    },
    {
     "data": {
      "text/html": [
       "<div style=\"display:inline-block; margin:10px; text-align:center;\"><img src=\"../logos/DAL.svg\" width=\"100px\" /><br><small>DAL</small></div>"
      ],
      "text/plain": [
       "<IPython.core.display.HTML object>"
      ]
     },
     "metadata": {},
     "output_type": "display_data"
    },
    {
     "data": {
      "text/html": [
       "<div style=\"display:inline-block; margin:10px; text-align:center;\"><img src=\"../logos/DEN.svg\" width=\"100px\" /><br><small>DEN</small></div>"
      ],
      "text/plain": [
       "<IPython.core.display.HTML object>"
      ]
     },
     "metadata": {},
     "output_type": "display_data"
    },
    {
     "data": {
      "text/html": [
       "<div style=\"display:inline-block; margin:10px; text-align:center;\"><img src=\"../logos/DET.svg\" width=\"100px\" /><br><small>DET</small></div>"
      ],
      "text/plain": [
       "<IPython.core.display.HTML object>"
      ]
     },
     "metadata": {},
     "output_type": "display_data"
    },
    {
     "data": {
      "text/html": [
       "<div style=\"display:inline-block; margin:10px; text-align:center;\"><img src=\"../logos/GSW.svg\" width=\"100px\" /><br><small>GSW</small></div>"
      ],
      "text/plain": [
       "<IPython.core.display.HTML object>"
      ]
     },
     "metadata": {},
     "output_type": "display_data"
    },
    {
     "data": {
      "text/html": [
       "<div style=\"display:inline-block; margin:10px; text-align:center;\"><img src=\"../logos/HOU.svg\" width=\"100px\" /><br><small>HOU</small></div>"
      ],
      "text/plain": [
       "<IPython.core.display.HTML object>"
      ]
     },
     "metadata": {},
     "output_type": "display_data"
    },
    {
     "data": {
      "text/html": [
       "<div style=\"display:inline-block; margin:10px; text-align:center;\"><img src=\"../logos/IND.svg\" width=\"100px\" /><br><small>IND</small></div>"
      ],
      "text/plain": [
       "<IPython.core.display.HTML object>"
      ]
     },
     "metadata": {},
     "output_type": "display_data"
    },
    {
     "data": {
      "text/html": [
       "<div style=\"display:inline-block; margin:10px; text-align:center;\"><img src=\"../logos/LAC.svg\" width=\"100px\" /><br><small>LAC</small></div>"
      ],
      "text/plain": [
       "<IPython.core.display.HTML object>"
      ]
     },
     "metadata": {},
     "output_type": "display_data"
    },
    {
     "data": {
      "text/html": [
       "<div style=\"display:inline-block; margin:10px; text-align:center;\"><img src=\"../logos/LAL.svg\" width=\"100px\" /><br><small>LAL</small></div>"
      ],
      "text/plain": [
       "<IPython.core.display.HTML object>"
      ]
     },
     "metadata": {},
     "output_type": "display_data"
    },
    {
     "data": {
      "text/html": [
       "<div style=\"display:inline-block; margin:10px; text-align:center;\"><img src=\"../logos/MEM.svg\" width=\"100px\" /><br><small>MEM</small></div>"
      ],
      "text/plain": [
       "<IPython.core.display.HTML object>"
      ]
     },
     "metadata": {},
     "output_type": "display_data"
    },
    {
     "data": {
      "text/html": [
       "<div style=\"display:inline-block; margin:10px; text-align:center;\"><img src=\"../logos/MIA.svg\" width=\"100px\" /><br><small>MIA</small></div>"
      ],
      "text/plain": [
       "<IPython.core.display.HTML object>"
      ]
     },
     "metadata": {},
     "output_type": "display_data"
    },
    {
     "data": {
      "text/html": [
       "<div style=\"display:inline-block; margin:10px; text-align:center;\"><img src=\"../logos/MIL.svg\" width=\"100px\" /><br><small>MIL</small></div>"
      ],
      "text/plain": [
       "<IPython.core.display.HTML object>"
      ]
     },
     "metadata": {},
     "output_type": "display_data"
    },
    {
     "data": {
      "text/html": [
       "<div style=\"display:inline-block; margin:10px; text-align:center;\"><img src=\"../logos/MIN.svg\" width=\"100px\" /><br><small>MIN</small></div>"
      ],
      "text/plain": [
       "<IPython.core.display.HTML object>"
      ]
     },
     "metadata": {},
     "output_type": "display_data"
    },
    {
     "data": {
      "text/html": [
       "<div style=\"display:inline-block; margin:10px; text-align:center;\"><img src=\"../logos/NOP.svg\" width=\"100px\" /><br><small>NOP</small></div>"
      ],
      "text/plain": [
       "<IPython.core.display.HTML object>"
      ]
     },
     "metadata": {},
     "output_type": "display_data"
    },
    {
     "data": {
      "text/html": [
       "<div style=\"display:inline-block; margin:10px; text-align:center;\"><img src=\"../logos/NYK.svg\" width=\"100px\" /><br><small>NYK</small></div>"
      ],
      "text/plain": [
       "<IPython.core.display.HTML object>"
      ]
     },
     "metadata": {},
     "output_type": "display_data"
    },
    {
     "data": {
      "text/html": [
       "<div style=\"display:inline-block; margin:10px; text-align:center;\"><img src=\"../logos/OKC.svg\" width=\"100px\" /><br><small>OKC</small></div>"
      ],
      "text/plain": [
       "<IPython.core.display.HTML object>"
      ]
     },
     "metadata": {},
     "output_type": "display_data"
    },
    {
     "data": {
      "text/html": [
       "<div style=\"display:inline-block; margin:10px; text-align:center;\"><img src=\"../logos/ORL.svg\" width=\"100px\" /><br><small>ORL</small></div>"
      ],
      "text/plain": [
       "<IPython.core.display.HTML object>"
      ]
     },
     "metadata": {},
     "output_type": "display_data"
    },
    {
     "data": {
      "text/html": [
       "<div style=\"display:inline-block; margin:10px; text-align:center;\"><img src=\"../logos/PHI.svg\" width=\"100px\" /><br><small>PHI</small></div>"
      ],
      "text/plain": [
       "<IPython.core.display.HTML object>"
      ]
     },
     "metadata": {},
     "output_type": "display_data"
    },
    {
     "data": {
      "text/html": [
       "<div style=\"display:inline-block; margin:10px; text-align:center;\"><img src=\"../logos/PHX.svg\" width=\"100px\" /><br><small>PHX</small></div>"
      ],
      "text/plain": [
       "<IPython.core.display.HTML object>"
      ]
     },
     "metadata": {},
     "output_type": "display_data"
    },
    {
     "data": {
      "text/html": [
       "<div style=\"display:inline-block; margin:10px; text-align:center;\"><img src=\"../logos/POR.svg\" width=\"100px\" /><br><small>POR</small></div>"
      ],
      "text/plain": [
       "<IPython.core.display.HTML object>"
      ]
     },
     "metadata": {},
     "output_type": "display_data"
    },
    {
     "data": {
      "text/html": [
       "<div style=\"display:inline-block; margin:10px; text-align:center;\"><img src=\"../logos/SAC.svg\" width=\"100px\" /><br><small>SAC</small></div>"
      ],
      "text/plain": [
       "<IPython.core.display.HTML object>"
      ]
     },
     "metadata": {},
     "output_type": "display_data"
    },
    {
     "data": {
      "text/html": [
       "<div style=\"display:inline-block; margin:10px; text-align:center;\"><img src=\"../logos/SAS.svg\" width=\"100px\" /><br><small>SAS</small></div>"
      ],
      "text/plain": [
       "<IPython.core.display.HTML object>"
      ]
     },
     "metadata": {},
     "output_type": "display_data"
    },
    {
     "data": {
      "text/html": [
       "<div style=\"display:inline-block; margin:10px; text-align:center;\"><img src=\"../logos/TOR.svg\" width=\"100px\" /><br><small>TOR</small></div>"
      ],
      "text/plain": [
       "<IPython.core.display.HTML object>"
      ]
     },
     "metadata": {},
     "output_type": "display_data"
    },
    {
     "data": {
      "text/html": [
       "<div style=\"display:inline-block; margin:10px; text-align:center;\"><img src=\"../logos/UTA.svg\" width=\"100px\" /><br><small>UTA</small></div>"
      ],
      "text/plain": [
       "<IPython.core.display.HTML object>"
      ]
     },
     "metadata": {},
     "output_type": "display_data"
    },
    {
     "data": {
      "text/html": [
       "<div style=\"display:inline-block; margin:10px; text-align:center;\"><img src=\"../logos/WAS.svg\" width=\"100px\" /><br><small>WAS</small></div>"
      ],
      "text/plain": [
       "<IPython.core.display.HTML object>"
      ]
     },
     "metadata": {},
     "output_type": "display_data"
    }
   ],
   "source": [
    "import os\n",
    "from IPython.display import HTML, display\n",
    "\n",
    "# Dossier des logos (depuis le notebook)\n",
    "logo_dir = os.path.join(\"..\", \"logos\")\n",
    "\n",
    "# Liste et affichage de chaque SVG redimensionné\n",
    "for fname in sorted(os.listdir(logo_dir)):\n",
    "    if not fname.lower().endswith(\".svg\"):\n",
    "        continue\n",
    "    path = os.path.join(logo_dir, fname)\n",
    "    display(HTML(f'<div style=\"display:inline-block; margin:10px; text-align:center;\">'\n",
    "                 f'<img src=\"{path}\" width=\"100px\" /><br><small>{fname[:-4]}</small>'\n",
    "                 f'</div>'))\n"
   ]
  }
 ],
 "metadata": {
  "kernelspec": {
   "display_name": "base",
   "language": "python",
   "name": "python3"
  },
  "language_info": {
   "codemirror_mode": {
    "name": "ipython",
    "version": 3
   },
   "file_extension": ".py",
   "mimetype": "text/x-python",
   "name": "python",
   "nbconvert_exporter": "python",
   "pygments_lexer": "ipython3",
   "version": "3.11.11"
  }
 },
 "nbformat": 4,
 "nbformat_minor": 5
}
