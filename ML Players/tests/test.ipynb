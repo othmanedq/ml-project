{
 "cells": [
  {
   "cell_type": "code",
   "execution_count": 4,
   "id": "be96cae9",
   "metadata": {},
   "outputs": [],
   "source": [
    "import pandas as pd\n",
    "from pathlib import Path\n",
    "\n",
    "raw = Path(\"nba_rating/data/raw\")\n",
    "phys_files = sorted(raw.glob(\"player_phys_*.parquet\"))\n",
    "\n",
    "for path in phys_files:\n",
    "    df = pd.read_parquet(path)\n",
    "    # repère les joueurs dont EXP est \"0\" (string) et pas \"R\"\n",
    "    mask_str0 = df[\"EXP\"] == \"0\"\n",
    "    if mask_str0.any():\n",
    "        print(f\"{path.name} → {mask_str0.sum()} joueurs avec EXP=='0'\")\n"
   ]
  },
  {
   "cell_type": "code",
   "execution_count": null,
   "id": "308c3961",
   "metadata": {},
   "outputs": [],
   "source": []
  }
 ],
 "metadata": {
  "kernelspec": {
   "display_name": "base",
   "language": "python",
   "name": "python3"
  },
  "language_info": {
   "codemirror_mode": {
    "name": "ipython",
    "version": 3
   },
   "file_extension": ".py",
   "mimetype": "text/x-python",
   "name": "python",
   "nbconvert_exporter": "python",
   "pygments_lexer": "ipython3",
   "version": "3.11.8"
  }
 },
 "nbformat": 4,
 "nbformat_minor": 5
}
